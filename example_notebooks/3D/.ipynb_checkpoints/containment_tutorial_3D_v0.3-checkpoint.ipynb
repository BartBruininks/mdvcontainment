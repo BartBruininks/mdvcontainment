{
 "cells": [
  {
   "cell_type": "markdown",
   "id": "a92bc552-18de-4c10-923b-ff5211d0bc22",
   "metadata": {},
   "source": [
    "# Tutorial 2 - 3D Examples for MDVContainment\n",
    "To get acquanted with the functionalities of MDVContainment we start with 3D systems due to their clean visualization. Visualization of 3D systems makes use of VMD in this tutorial. However, feel free to visualize the generated GRO files with your favorite software.\n",
    "\n",
    "1) Single island in ocean\n",
    "2) Nested islands in ocean\n",
    "3) Translation invariance (up to voxel resolution)\n",
    "4) Multiple outsides\n",
    "5) Closing (small) holes\n",
    "6) Diagonal neighbours are included\n",
    "\n",
    "## Dependencies"
   ]
  },
  {
   "cell_type": "code",
   "execution_count": 1,
   "id": "908c3e0b-f8e0-4ec0-9aea-477808fa0a87",
   "metadata": {},
   "outputs": [],
   "source": [
    "import mdvcontainment as mdvc\n",
    "import MDAnalysis as mda\n",
    "import numpy as np\n",
    "import matplotlib.pyplot as plt\n",
    "import webbrowser"
   ]
  },
  {
   "cell_type": "markdown",
   "id": "7e259d73-51b3-40df-a4d1-7a84e6e0ac2b",
   "metadata": {},
   "source": [
    "## Visualization wrapper"
   ]
  },
  {
   "cell_type": "code",
   "execution_count": 2,
   "id": "0f26cd7d-ae4a-4ee6-ba37-06502b02f3db",
   "metadata": {},
   "outputs": [],
   "source": [
    "def visualize_3D(name, command_string='-e visualization.vmd'):\n",
    "    \"\"\"\n",
    "    Visualizes the GRO file using the included render settings.\n",
    "\n",
    "    Feel free to change this function to whatever visualizer you prefer.\n",
    "    \"\"\"\n",
    "    # Plot using VMD\n",
    "    !vmd $name $command_string\n",
    "    return"
   ]
  },
  {
   "cell_type": "markdown",
   "id": "ffcc02be-d5a5-4481-a055-8b0c7dbcd68c",
   "metadata": {},
   "source": [
    "## Data generation funtions\n",
    "Some helper functions to easily generate GRO files from voxel masks."
   ]
  },
  {
   "cell_type": "code",
   "execution_count": 3,
   "id": "608b2a4d-3469-45fa-94fe-9341e2495f01",
   "metadata": {},
   "outputs": [],
   "source": [
    "def make_test_universe(voxels, angles=(90,90,90)):\n",
    "    \"\"\"\n",
    "    Returns a universe filled with the specified points.\n",
    "    \"\"\"\n",
    "\n",
    "    # Obtaining the PBC shape in Anghstrom (A)\n",
    "    dim = np.array(voxels.shape)*10\n",
    "    \n",
    "    # Converting the voxels to points and \n",
    "    #  changing the distance unit from nm to A and \n",
    "    #  adding a 5 A offset. \n",
    "    coordinates_fill = (np.vstack(np.where(voxels != 0)).T)*10 + 5\n",
    "    coordinates_empty = (np.vstack(np.where(voxels == 0)).T)*10 + 5\n",
    "    \n",
    "    # Creating the empty univerese\n",
    "    universe = mda.Universe.empty(\n",
    "        n_atoms = coordinates_fill.shape[0] + coordinates_empty.shape[0],\n",
    "        trajectory = True,\n",
    "    )\n",
    "    \n",
    "    # Fill the universe with the positions\n",
    "    universe.atoms.positions = np.vstack([coordinates_fill, coordinates_empty])\n",
    "    \n",
    "    # Creating the atom names\n",
    "    names = ['A']*coordinates_fill.shape[0] + ['B']*coordinates_empty.shape[0]\n",
    "    universe.add_TopologyAttr('name', names)\n",
    "    \n",
    "    # Add the PBC conditions\n",
    "    universe.dimensions = [*dim, *angles]\n",
    "    \n",
    "    return universe"
   ]
  },
  {
   "cell_type": "code",
   "execution_count": 4,
   "id": "f5bed26f-4bc3-48f8-a1a9-0282363e805b",
   "metadata": {},
   "outputs": [],
   "source": [
    "def make_island_3D(name='island_3D.gro', roll=0, visualize=True):\n",
    "    \"\"\"\n",
    "    Returns and writes the atomgroup for a simple island in the ocean (3D).\n",
    "    \"\"\"\n",
    "\n",
    "    # Creating the boolean mask.\n",
    "    shape = (10, 10 , 10)\n",
    "    voxels = np.zeros(shape)\n",
    "    voxels[3:7, 3:7, 3:7] = 1\n",
    "    \n",
    "    # Translate periodically \n",
    "    voxels = np.roll(voxels, roll, 0)\n",
    "    voxels = np.roll(voxels, roll, 1)\n",
    "    voxels = np.roll(voxels, roll, 2)\n",
    "\n",
    "    # Creating the universe\n",
    "    test_universe = make_test_universe(voxels)\n",
    "    test_universe.atoms.write(name)\n",
    "\n",
    "    # Plot\n",
    "    if visualize:\n",
    "        visualize_3D(name)\n",
    "    \n",
    "    return test_universe"
   ]
  },
  {
   "cell_type": "code",
   "execution_count": 5,
   "id": "da2f6b6b-10f2-4842-b5d2-fea644306086",
   "metadata": {},
   "outputs": [],
   "source": [
    "def make_nested_island_3D(name='nested_island_3D.gro', roll=0, visualize=True):\n",
    "    \"\"\"\n",
    "    Returns and writes the atomgroup for a nesyed island in the ocean (3D).\n",
    "    \"\"\"\n",
    "\n",
    "    # Creating the boolean mask\n",
    "    shape = (10, 10 , 10)\n",
    "    voxels = np.zeros(shape)\n",
    "    voxels[2:8, 2:8, 2:8] = 1\n",
    "    voxels[3:7, 3:7, 3:7] = 0\n",
    "    voxels[4:6, 4:6, 4:6] = 1\n",
    "    \n",
    "    # Translate periodically \n",
    "    voxels = np.roll(voxels, roll, 0)\n",
    "    voxels = np.roll(voxels, roll, 1)\n",
    "    voxels = np.roll(voxels, roll, 2)\n",
    "\n",
    "    # Creating the universe\n",
    "    test_universe = make_test_universe(voxels)\n",
    "    test_universe.atoms.write(name)\n",
    "\n",
    "    # Plot\n",
    "    if visualize:\n",
    "        visualize_3D(name)\n",
    "    \n",
    "    return test_universe"
   ]
  },
  {
   "cell_type": "code",
   "execution_count": 6,
   "id": "3372b7a1-c783-4bbe-b53f-d0a12f0210a8",
   "metadata": {},
   "outputs": [],
   "source": [
    "def make_plane_3D(name='ribbon_2D.gro', roll=0, visualize=True):\n",
    "    \"\"\"\n",
    "    Returns and writes the atomgroup for a system of diagonal planes (3D).\n",
    "    \"\"\"\n",
    "\n",
    "    # Creating the boolean mask.\n",
    "    shape = (10, 10 , 10)\n",
    "    voxels = np.zeros(shape)\n",
    "    \n",
    "    # First row\n",
    "    voxels[0, 5, :] = 1\n",
    "    voxels[1, 6, :] = 1\n",
    "    voxels[2, 7, :] = 1\n",
    "    voxels[3, 8, :] = 1\n",
    "    voxels[4, 9, :] = 1\n",
    "    voxels[5, 0, :] = 1\n",
    "    voxels[6, 1, :] = 1\n",
    "    voxels[7, 2, :] = 1\n",
    "    voxels[8, 3, :] = 1\n",
    "    voxels[9, 4, :] = 1\n",
    "    \n",
    "    # Second row\n",
    "    voxels[1, 5, :] = 1\n",
    "    voxels[2, 6, :] = 1\n",
    "    voxels[3, 7, :] = 1\n",
    "    voxels[4, 8, :] = 1\n",
    "    voxels[5, 9, :] = 1\n",
    "    voxels[6, 0, :] = 1\n",
    "    voxels[7, 1, :] = 1\n",
    "    voxels[8, 2, :] = 1\n",
    "    voxels[9, 3, :] = 1\n",
    "    voxels[0, 4, :] = 1\n",
    "    \n",
    "    # Translate periodically \n",
    "    voxels = np.roll(voxels, roll, 0)\n",
    "    voxels = np.roll(voxels, roll, 1)\n",
    "    voxels = np.roll(voxels, roll, 2)\n",
    "\n",
    "    # Creating the universe\n",
    "    test_universe = make_test_universe(voxels)\n",
    "    test_universe.atoms.write(name)\n",
    "\n",
    "    # Plot\n",
    "    if visualize:\n",
    "        visualize_3D(name)\n",
    "    \n",
    "    return test_universe"
   ]
  },
  {
   "cell_type": "code",
   "execution_count": 7,
   "id": "653b3681-4d20-417f-abdd-28c64081da3e",
   "metadata": {},
   "outputs": [],
   "source": [
    "def make_cylinders_3D(name='cylinder_3D.gro', roll=0, visualize=True):\n",
    "    \"\"\"\n",
    "    Returns and writes the atomgroup for a system with nested rank1 cylinders (3D).\n",
    "    \"\"\"\n",
    "\n",
    "    # Creating the boolean mask.\n",
    "    shape = (10, 10 , 10)\n",
    "    voxels = np.zeros(shape)\n",
    "    \n",
    "    # First row\n",
    "    voxels[3:7, 3:7, :] = 1\n",
    "    voxels[4:6, 4:6, :] = 0\n",
    "    \n",
    "    # Translate periodically \n",
    "    voxels = np.roll(voxels, roll, 0)\n",
    "    voxels = np.roll(voxels, roll, 1)\n",
    "    voxels = np.roll(voxels, roll, 1)\n",
    "\n",
    "    # Creating the universe\n",
    "    test_universe = make_test_universe(voxels)\n",
    "    test_universe.atoms.write(name)\n",
    "\n",
    "    # Plot\n",
    "    if visualize:\n",
    "        visualize_3D(name)\n",
    "    \n",
    "    return test_universe"
   ]
  },
  {
   "cell_type": "markdown",
   "id": "fc009c5c-2e54-46de-b689-b64b7012da90",
   "metadata": {},
   "source": [
    "## 1 - Island\n",
    "This is the most basic of containment hierarchies. We do not use blurring, as we have voxel perfect input."
   ]
  },
  {
   "cell_type": "code",
   "execution_count": 8,
   "id": "67c8eb6a-01f8-4a5a-aa39-e36bb48c50ef",
   "metadata": {},
   "outputs": [
    {
     "name": "stdout",
     "output_type": "stream",
     "text": [
      "Info) VMD for LINUXAMD64, version 1.9.4a55 (November 26, 2021)\n",
      "Info) http://www.ks.uiuc.edu/Research/vmd/                         \n",
      "Info) Email questions and bug reports to vmd@ks.uiuc.edu           \n",
      "Info) Please include this reference in published work using VMD:   \n",
      "Info)    Humphrey, W., Dalke, A. and Schulten, K., `VMD - Visual   \n",
      "Info)    Molecular Dynamics', J. Molec. Graphics 1996, 14.1, 33-38.\n",
      "Info) -------------------------------------------------------------\n",
      "Info) Multithreading available, 16 CPUs.\n",
      "Info)   CPU features: SSE2 SSE4.1 AVX AVX2 FMA F16 HT \n",
      "Info) Free system memory: 26GB (85%)\n",
      "\u001b[K\r"
     ]
    },
    {
     "name": "stderr",
     "output_type": "stream",
     "text": [
      "/home/bart/.virtualenvs/containment/lib/python3.8/site-packages/MDAnalysis/coordinates/GRO.py:421: UserWarning: Supplied AtomGroup was missing the following attributes: resnames, resids. These will be written with default values. Alternatively these can be supplied as keyword arguments.\n",
      "  warnings.warn(\n"
     ]
    },
    {
     "name": "stdout",
     "output_type": "stream",
     "text": [
      "\u001b[K\n",
      "\u001b[K\r"
     ]
    },
    {
     "data": {
      "text/plain": [
       "<Universe with 1000 atoms>"
      ]
     },
     "execution_count": 8,
     "metadata": {},
     "output_type": "execute_result"
    }
   ],
   "source": [
    "# Generate the test data\n",
    "base_name = 'island_3D'\n",
    "make_island_3D(base_name + '.gro')"
   ]
  },
  {
   "cell_type": "code",
   "execution_count": 9,
   "id": "643b02b6-8646-4cf9-ab1b-6ad4e4d58e67",
   "metadata": {},
   "outputs": [
    {
     "name": "stderr",
     "output_type": "stream",
     "text": [
      "/home/bart/.virtualenvs/containment/lib/python3.8/site-packages/MDAnalysis/topology/guessers.py:146: UserWarning: Failed to guess the mass for the following atom types: A\n",
      "  warnings.warn(\"Failed to guess the mass for the following atom types: {}\".format(atom_type))\n"
     ]
    }
   ],
   "source": [
    "# Load the GRO\n",
    "u = mda.Universe(base_name + '.gro')\n",
    "# Make the required selection\n",
    "selection = u.select_atoms('name is A')"
   ]
  },
  {
   "cell_type": "code",
   "execution_count": 10,
   "id": "7e6bca45-3577-4277-890f-ebc03b165a01",
   "metadata": {},
   "outputs": [
    {
     "name": "stdout",
     "output_type": "stream",
     "text": [
      "Creating voxel masks with a resolution of 1...\n",
      "Blurring voxel masks with 0...\n",
      "Non PBC-labeling...\n",
      "Obtaining bridges...\n",
      "Calculating the ranks...\n",
      "The ranks are {(1,): 0, (-1,): 3}\n",
      "Calculating the pairs...\n",
      "Relabeling taking PBC into account...\n",
      "Creating graphs...\n",
      "Annotating the containment graph...\n",
      "Done!\n"
     ]
    }
   ],
   "source": [
    "# Generate the containment hierarchy\n",
    "containers = mdvc.Containers(selection.atoms, resolution=1, blur_amount=0)"
   ]
  },
  {
   "cell_type": "code",
   "execution_count": 11,
   "id": "21bfecd7-a51a-4094-b75b-32da28cba870",
   "metadata": {},
   "outputs": [
    {
     "name": "stdout",
     "output_type": "stream",
     "text": [
      "Warning: When  cdn_resources is 'local' jupyter notebook has issues displaying graphics on chrome/safari. Use cdn_resources='in_line' or cdn_resources='remote' if you have issues viewing graphics in a notebook.\n",
      "island_3D.html\n"
     ]
    },
    {
     "data": {
      "text/html": [
       "\n",
       "        <iframe\n",
       "            width=\"800px\"\n",
       "            height=\"800px\"\n",
       "            src=\"island_3D.html\"\n",
       "            frameborder=\"0\"\n",
       "            allowfullscreen\n",
       "            \n",
       "        ></iframe>\n",
       "        "
      ],
      "text/plain": [
       "<IPython.lib.display.IFrame at 0x7f1a1138d400>"
      ]
     },
     "execution_count": 11,
     "metadata": {},
     "output_type": "execute_result"
    }
   ],
   "source": [
    "# Plot the containment hierarchy as nodes (size is occupancy)\n",
    "containers.plot(name=base_name + '.html')"
   ]
  },
  {
   "cell_type": "code",
   "execution_count": 12,
   "id": "2043e281-1867-495d-b711-ce372f5330b0",
   "metadata": {},
   "outputs": [
    {
     "name": "stdout",
     "output_type": "stream",
     "text": [
      "\n",
      "\n",
      "Container -1\n",
      "------------------------\n",
      "{'UNK': 936}\n"
     ]
    },
    {
     "name": "stderr",
     "output_type": "stream",
     "text": [
      "/home/bart/.virtualenvs/containment/lib/python3.8/site-packages/MDAnalysis/coordinates/GRO.py:421: UserWarning: Supplied AtomGroup was missing the following attributes: names, resnames, resids. These will be written with default values. Alternatively these can be supplied as keyword arguments.\n",
      "  warnings.warn(\n"
     ]
    },
    {
     "name": "stdout",
     "output_type": "stream",
     "text": [
      "I wrote island_3D_-1.gro\n",
      "Info) VMD for LINUXAMD64, version 1.9.4a55 (November 26, 2021)\n",
      "Info) http://www.ks.uiuc.edu/Research/vmd/                         \n",
      "Info) Email questions and bug reports to vmd@ks.uiuc.edu           \n",
      "Info) Please include this reference in published work using VMD:   \n",
      "Info)    Humphrey, W., Dalke, A. and Schulten, K., `VMD - Visual   \n",
      "Info)    Molecular Dynamics', J. Molec. Graphics 1996, 14.1, 33-38.\n",
      "Info) -------------------------------------------------------------\n",
      "Info) Multithreading available, 16 CPUs.\n",
      "Info)   CPU features: SSE2 SSE4.1 AVX AVX2 FMA F16 HT \n",
      "Info) Free system memory: 26GB (85%)\n",
      "Info) Creating CUDA device pool and initializing hardware...\n",
      "Info) Detected 1 available CUDA accelerator::\n",
      "Info) [0] Quadro T2000 with Max-Q Design 16 SM_7.5 1.4 GHz, 3.8GB RAM SP32 KT AE3 ZC\n",
      "Info) OpenGL renderer: Mesa Intel(R) UHD Graphics (CML GT2)\n",
      "Info)   Features: STENCIL MSAA(4) MDE CVA MTX NPOT PP PS GLSL(OVFS) \n",
      "Info)   Full GLSL rendering mode is available.\n",
      "Info)   Textures: 2-D (16384x16384), 3-D (512x512x512), Multitexture (8)\n",
      "OpenGLDisplayDevice) Creating OptiX RTRT context...\n",
      "OpenGLDisplayDevice) OptiX RTRT context created.\n",
      "Info) Detected 1 available TachyonL/OptiX ray tracing accelerator\n",
      "Info)   Compiling  OptiX shaders on 1 target GPU...\n",
      "Info) File loading in progress, please wait.\n",
      "Info) Using plugin gro for structure file island_3D_-1.gro\n",
      "Info) Using plugin gro for coordinates from file island_3D_-1.gro\n",
      "Info) Determining bond structure from distance search ...\n",
      "Info) Finished with coordinate file island_3D_-1.gro.\n",
      "Info) Analyzing structure ...\n",
      "Info)    Atoms: 936\n",
      "Info)    Bonds: 0\n",
      "Info)    Angles: 0  Dihedrals: 0  Impropers: 0  Cross-terms: 0\n",
      "Info)    Bondtypes: 0  Angletypes: 0  Dihedraltypes: 0  Impropertypes: 0\n",
      "Info)    Residues: 936\n",
      "Info)    Waters: 0\n",
      "Info)    Segments: 1\n",
      "Info)    Fragments: 936   Protein: 0   Nucleic: 0\n",
      "Info) Using plugin gro for structure file box_corners.gro\n",
      "Info) Using plugin gro for coordinates from file box_corners.gro\n",
      "Info) Determining bond structure from distance search ...\n",
      "Info) Finished with coordinate file box_corners.gro.\n",
      "Info) Analyzing structure ...\n",
      "Info)    Atoms: 8\n",
      "Info)    Bonds: 0\n",
      "Info)    Angles: 0  Dihedrals: 0  Impropers: 0  Cross-terms: 0\n",
      "Info)    Bondtypes: 0  Angletypes: 0  Dihedraltypes: 0  Impropertypes: 0\n",
      "Info)    Residues: 8\n",
      "Info)    Waters: 0\n",
      "Info)    Segments: 1\n",
      "Info)    Fragments: 8   Protein: 0   Nucleic: 0\n",
      "\n",
      " USAGE\n",
      "-------\n",
      "\n",
      "These few lines are given by the \"cg_bonds_usage\" command.\n",
      "\n",
      "Draw bonds for specific molecules.\n",
      "   cg_bonds [OPTIONS]\n",
      "\n",
      "If you ask to this script to draw Martini/elastic network from a .tpr file, it will use the \"gmx\" executable compiled with gromacs. By default, it looks for it in the \"/usr/bin\" directory; you can specify another path pointing to the executable (see below). If you ask to read a .top file, it will read the paths to the .itp files from the \"#include\" statements; make sure those paths are valid...\n",
      "\n",
      "Options and default values:\n",
      "   -molid     \"top\"                VMD-defined ID of the molecule to process\n",
      "   -gmx       /usr/bin/gmx         path to the \"gmx\" executable\n",
      "   -tpr       topol.tpr            path to the simulation file (.tpr)\n",
      "   -top       topol.top            path to the system topology files (.top linking to .itp)\n",
      "   -topoltype \"martini\"            type of topology(martini|elastic|elnedyn)\n",
      "   -net       \"martini\"            network to draw (martini|elastic|both)\n",
      "   -bndrcnstr \"both\"               draw bonds AND/OR constraints (bonds|constraints|both)\n",
      "   -cutoff    7.0                  cutoff for bonds/constraints [angstroms]\n",
      "   -color     \"red\"                color (color name or VMD-defined ID) of elastic bonds\n",
      "   -mat       \"Opaque\"             material for elastic bonds\n",
      "   -rad       0.2                  radius of elastic bonds\n",
      "   -res       6                    resolution of elastic bonds\n",
      "\n",
      "In most of the cases, if a \"classical\" cutoff is used for the elastic network (0.9nm), more than 12 elastic \"bonds\" per bead are defined and VMD refuses to draw them. BUT this script replaces bonds by cylinders, and is able to draw the entire elastic network. Note that you will have to modify the default cutoff value to see all the \"bonds\" defined by the elastic network. These drawings are not dynamic, you will need to re-draw the entire network each step of a trajectory.\n",
      "\n",
      "Delete the Martini network:\n",
      "   cg_delete_martini_bonds [OPTION]\n",
      "\n",
      "Delete the elastic network:\n",
      "   cg_delete_elastic_bonds [OPTION]\n",
      "\n",
      "Shortcut (delete everything, including bonds/constraints lists):\n",
      "   cg_delete_all [OPTION]\n",
      "\n",
      "The only option for the previous three commands is the VMD-defined ID of the molecule to process (via -molid, default is \"top\").\n",
      "\n",
      "Someone (...) said the names of the functions were too long; you can find some shortcuts here:\n",
      "   cg_bonds_usage            cg_bus\n",
      "   cg_delete_martini_bonds   cg_dmb\n",
      "   cg_delete_elastic_bonds   cg_deb\n",
      "   cg_delete_all             cg_dab\n",
      "\n",
      " EXAMPLES\n",
      "----------\n",
      "\n",
      "   cg_bonds -tpr mini.tpr\n",
      "   cg_bonds -gmx gmx -tpr mini.tpr\n",
      "   cg_bonds -gmx /usr/local/gromacs-2016.3/bin/gmx -topoltype \"martini\" -top system.top -cutoff 6.2\n",
      "   cg_bonds -topoltype \"elastic\" -res 10 -cutoff 12.0 -mat Transparent -color 12\n",
      "   cg_dmb -molid 1\n",
      "\n",
      "The qwikfold package could not be loaded:\n",
      "\n",
      "-\n",
      "-\n",
      "50\n",
      "20\n",
      "Info) Rendering current scene to 'text_render.png' ...\n",
      "Info) Ambient occlusion enabled.\n",
      "Info) Shadow rendering enabled.\n"
     ]
    },
    {
     "ename": "KeyboardInterrupt",
     "evalue": "",
     "output_type": "error",
     "traceback": [
      "\u001b[0;31m---------------------------------------------------------------------------\u001b[0m",
      "\u001b[0;31mKeyboardInterrupt\u001b[0m                         Traceback (most recent call last)",
      "Cell \u001b[0;32mIn[12], line 2\u001b[0m\n\u001b[1;32m      1\u001b[0m \u001b[38;5;66;03m# Render using VMD and (custom) render scripts\u001b[39;00m\n\u001b[0;32m----> 2\u001b[0m \u001b[43mcontainers\u001b[49m\u001b[38;5;241;43m.\u001b[39;49m\u001b[43mrender\u001b[49m\u001b[43m(\u001b[49m\u001b[43mprefix\u001b[49m\u001b[38;5;241;43m=\u001b[39;49m\u001b[43mbase_name\u001b[49m\u001b[43m \u001b[49m\u001b[38;5;241;43m+\u001b[39;49m\u001b[43m \u001b[49m\u001b[38;5;124;43m'\u001b[39;49m\u001b[38;5;124;43m_\u001b[39;49m\u001b[38;5;124;43m'\u001b[39;49m\u001b[43m)\u001b[49m\n\u001b[1;32m      3\u001b[0m containers\u001b[38;5;241m.\u001b[39mload_renders(prefix\u001b[38;5;241m=\u001b[39mbase_name \u001b[38;5;241m+\u001b[39m \u001b[38;5;124m'\u001b[39m\u001b[38;5;124m_\u001b[39m\u001b[38;5;124m'\u001b[39m)\n",
      "File \u001b[0;32m/media/windows/Users/Bart/projects/containment/mdvcontainment/src/mdvcontainment/containment.py:1625\u001b[0m, in \u001b[0;36mContainers.render\u001b[0;34m(self, prefix, ftype)\u001b[0m\n\u001b[1;32m   1621\u001b[0m \u001b[38;5;28;01mdef\u001b[39;00m \u001b[38;5;21mrender\u001b[39m(\u001b[38;5;28mself\u001b[39m, prefix\u001b[38;5;241m=\u001b[39m\u001b[38;5;124m'\u001b[39m\u001b[38;5;124mtest_container_\u001b[39m\u001b[38;5;124m'\u001b[39m, ftype\u001b[38;5;241m=\u001b[39m\u001b[38;5;124m'\u001b[39m\u001b[38;5;124mpng\u001b[39m\u001b[38;5;124m'\u001b[39m):\n\u001b[1;32m   1622\u001b[0m \u001b[38;5;250m    \u001b[39m\u001b[38;5;124;03m\"\"\"\u001b[39;00m\n\u001b[1;32m   1623\u001b[0m \u001b[38;5;124;03m    Renders the cotainment graph nodes.\u001b[39;00m\n\u001b[1;32m   1624\u001b[0m \u001b[38;5;124;03m    \"\"\"\u001b[39;00m\n\u001b[0;32m-> 1625\u001b[0m     \u001b[43mwrite_containment\u001b[49m\u001b[43m(\u001b[49m\n\u001b[1;32m   1626\u001b[0m \u001b[43m        \u001b[49m\u001b[38;5;28;43mself\u001b[39;49m\u001b[38;5;241;43m.\u001b[39;49m\u001b[43m_atomgroup\u001b[49m\u001b[38;5;241;43m.\u001b[39;49m\u001b[43muniverse\u001b[49m\u001b[43m,\u001b[49m\u001b[43m \u001b[49m\n\u001b[1;32m   1627\u001b[0m \u001b[43m        \u001b[49m\u001b[38;5;28;43mself\u001b[39;49m\u001b[38;5;241;43m.\u001b[39;49m\u001b[43mdata\u001b[49m\u001b[43m[\u001b[49m\u001b[38;5;124;43m'\u001b[39;49m\u001b[38;5;124;43mall_voxels\u001b[39;49m\u001b[38;5;124;43m'\u001b[39;49m\u001b[43m]\u001b[49m\u001b[43m,\u001b[49m\u001b[43m \u001b[49m\n\u001b[1;32m   1628\u001b[0m \u001b[43m        \u001b[49m\u001b[38;5;28;43mself\u001b[39;49m\u001b[38;5;241;43m.\u001b[39;49m\u001b[43mdata\u001b[49m\u001b[43m[\u001b[49m\u001b[38;5;124;43m'\u001b[39;49m\u001b[38;5;124;43mrelabeled_combined_label_array\u001b[39;49m\u001b[38;5;124;43m'\u001b[39;49m\u001b[43m]\u001b[49m\u001b[43m,\u001b[49m\n\u001b[1;32m   1629\u001b[0m \u001b[43m        \u001b[49m\u001b[38;5;28;43mself\u001b[39;49m\u001b[38;5;241;43m.\u001b[39;49m\u001b[43mcontainment_graph\u001b[49m\u001b[43m,\u001b[49m\n\u001b[1;32m   1630\u001b[0m \u001b[43m        \u001b[49m\u001b[43mprefix\u001b[49m\u001b[43m,\u001b[49m\n\u001b[1;32m   1631\u001b[0m \u001b[43m        \u001b[49m\u001b[43mftype\u001b[49m\u001b[43m,\u001b[49m\n\u001b[1;32m   1632\u001b[0m \u001b[43m    \u001b[49m\u001b[43m)\u001b[49m\n",
      "File \u001b[0;32m/media/windows/Users/Bart/projects/containment/mdvcontainment/src/mdvcontainment/containment.py:1082\u001b[0m, in \u001b[0;36mwrite_containment\u001b[0;34m(universe, all_voxels, relabeled_combined_label_array, containment_graph, prefix, ftype)\u001b[0m\n\u001b[1;32m   1078\u001b[0m \u001b[38;5;66;03m#!mdvwhole -f $target_name -x $target_name -o $out_name -wa True -sel 'all'\u001b[39;00m\n\u001b[1;32m   1079\u001b[0m \u001b[38;5;66;03m# This allows for rendering outsides different than insides.\u001b[39;00m\n\u001b[1;32m   1080\u001b[0m \u001b[38;5;28;01mif\u001b[39;00m target_container \u001b[38;5;129;01min\u001b[39;00m containers:\n\u001b[1;32m   1081\u001b[0m     \u001b[38;5;66;03m#!vmd -m $target_name box_corners.gro -e render_outside_command.vmd\u001b[39;00m\n\u001b[0;32m-> 1082\u001b[0m     \u001b[43msubprocess\u001b[49m\u001b[38;5;241;43m.\u001b[39;49m\u001b[43mcall\u001b[49m\u001b[43m(\u001b[49m\u001b[43mshlex\u001b[49m\u001b[38;5;241;43m.\u001b[39;49m\u001b[43msplit\u001b[49m\u001b[43m(\u001b[49m\u001b[38;5;124;43mf\u001b[39;49m\u001b[38;5;124;43m'\u001b[39;49m\u001b[38;5;124;43mvmd -m \u001b[39;49m\u001b[38;5;132;43;01m{\u001b[39;49;00m\u001b[43mtarget_name\u001b[49m\u001b[38;5;132;43;01m}\u001b[39;49;00m\u001b[38;5;124;43m box_corners.gro -e render_outside_command.vmd\u001b[39;49m\u001b[38;5;124;43m'\u001b[39;49m\u001b[43m)\u001b[49m\u001b[43m)\u001b[49m\n\u001b[1;32m   1083\u001b[0m \u001b[38;5;28;01melse\u001b[39;00m:\n\u001b[1;32m   1084\u001b[0m     \u001b[38;5;66;03m#!vmd -m $target_name box_corners.gro -e render_command.vmd\u001b[39;00m\n\u001b[1;32m   1085\u001b[0m     subprocess\u001b[38;5;241m.\u001b[39mcall(shlex\u001b[38;5;241m.\u001b[39msplit(\u001b[38;5;124mf\u001b[39m\u001b[38;5;124m'\u001b[39m\u001b[38;5;124mvmd -m \u001b[39m\u001b[38;5;132;01m{\u001b[39;00mtarget_name\u001b[38;5;132;01m}\u001b[39;00m\u001b[38;5;124m box_corners.gro -e render_command.vmd\u001b[39m\u001b[38;5;124m'\u001b[39m))\n",
      "File \u001b[0;32m/usr/lib/python3.8/subprocess.py:342\u001b[0m, in \u001b[0;36mcall\u001b[0;34m(timeout, *popenargs, **kwargs)\u001b[0m\n\u001b[1;32m    340\u001b[0m \u001b[38;5;28;01mwith\u001b[39;00m Popen(\u001b[38;5;241m*\u001b[39mpopenargs, \u001b[38;5;241m*\u001b[39m\u001b[38;5;241m*\u001b[39mkwargs) \u001b[38;5;28;01mas\u001b[39;00m p:\n\u001b[1;32m    341\u001b[0m     \u001b[38;5;28;01mtry\u001b[39;00m:\n\u001b[0;32m--> 342\u001b[0m         \u001b[38;5;28;01mreturn\u001b[39;00m \u001b[43mp\u001b[49m\u001b[38;5;241;43m.\u001b[39;49m\u001b[43mwait\u001b[49m\u001b[43m(\u001b[49m\u001b[43mtimeout\u001b[49m\u001b[38;5;241;43m=\u001b[39;49m\u001b[43mtimeout\u001b[49m\u001b[43m)\u001b[49m\n\u001b[1;32m    343\u001b[0m     \u001b[38;5;28;01mexcept\u001b[39;00m:  \u001b[38;5;66;03m# Including KeyboardInterrupt, wait handled that.\u001b[39;00m\n\u001b[1;32m    344\u001b[0m         p\u001b[38;5;241m.\u001b[39mkill()\n",
      "File \u001b[0;32m/usr/lib/python3.8/subprocess.py:1083\u001b[0m, in \u001b[0;36mPopen.wait\u001b[0;34m(self, timeout)\u001b[0m\n\u001b[1;32m   1081\u001b[0m     endtime \u001b[38;5;241m=\u001b[39m _time() \u001b[38;5;241m+\u001b[39m timeout\n\u001b[1;32m   1082\u001b[0m \u001b[38;5;28;01mtry\u001b[39;00m:\n\u001b[0;32m-> 1083\u001b[0m     \u001b[38;5;28;01mreturn\u001b[39;00m \u001b[38;5;28;43mself\u001b[39;49m\u001b[38;5;241;43m.\u001b[39;49m\u001b[43m_wait\u001b[49m\u001b[43m(\u001b[49m\u001b[43mtimeout\u001b[49m\u001b[38;5;241;43m=\u001b[39;49m\u001b[43mtimeout\u001b[49m\u001b[43m)\u001b[49m\n\u001b[1;32m   1084\u001b[0m \u001b[38;5;28;01mexcept\u001b[39;00m \u001b[38;5;167;01mKeyboardInterrupt\u001b[39;00m:\n\u001b[1;32m   1085\u001b[0m     \u001b[38;5;66;03m# https://bugs.python.org/issue25942\u001b[39;00m\n\u001b[1;32m   1086\u001b[0m     \u001b[38;5;66;03m# The first keyboard interrupt waits briefly for the child to\u001b[39;00m\n\u001b[1;32m   1087\u001b[0m     \u001b[38;5;66;03m# exit under the common assumption that it also received the ^C\u001b[39;00m\n\u001b[1;32m   1088\u001b[0m     \u001b[38;5;66;03m# generated SIGINT and will exit rapidly.\u001b[39;00m\n\u001b[1;32m   1089\u001b[0m     \u001b[38;5;28;01mif\u001b[39;00m timeout \u001b[38;5;129;01mis\u001b[39;00m \u001b[38;5;129;01mnot\u001b[39;00m \u001b[38;5;28;01mNone\u001b[39;00m:\n",
      "File \u001b[0;32m/usr/lib/python3.8/subprocess.py:1806\u001b[0m, in \u001b[0;36mPopen._wait\u001b[0;34m(self, timeout)\u001b[0m\n\u001b[1;32m   1804\u001b[0m \u001b[38;5;28;01mif\u001b[39;00m \u001b[38;5;28mself\u001b[39m\u001b[38;5;241m.\u001b[39mreturncode \u001b[38;5;129;01mis\u001b[39;00m \u001b[38;5;129;01mnot\u001b[39;00m \u001b[38;5;28;01mNone\u001b[39;00m:\n\u001b[1;32m   1805\u001b[0m     \u001b[38;5;28;01mbreak\u001b[39;00m  \u001b[38;5;66;03m# Another thread waited.\u001b[39;00m\n\u001b[0;32m-> 1806\u001b[0m (pid, sts) \u001b[38;5;241m=\u001b[39m \u001b[38;5;28;43mself\u001b[39;49m\u001b[38;5;241;43m.\u001b[39;49m\u001b[43m_try_wait\u001b[49m\u001b[43m(\u001b[49m\u001b[38;5;241;43m0\u001b[39;49m\u001b[43m)\u001b[49m\n\u001b[1;32m   1807\u001b[0m \u001b[38;5;66;03m# Check the pid and loop as waitpid has been known to\u001b[39;00m\n\u001b[1;32m   1808\u001b[0m \u001b[38;5;66;03m# return 0 even without WNOHANG in odd situations.\u001b[39;00m\n\u001b[1;32m   1809\u001b[0m \u001b[38;5;66;03m# http://bugs.python.org/issue14396.\u001b[39;00m\n\u001b[1;32m   1810\u001b[0m \u001b[38;5;28;01mif\u001b[39;00m pid \u001b[38;5;241m==\u001b[39m \u001b[38;5;28mself\u001b[39m\u001b[38;5;241m.\u001b[39mpid:\n",
      "File \u001b[0;32m/usr/lib/python3.8/subprocess.py:1764\u001b[0m, in \u001b[0;36mPopen._try_wait\u001b[0;34m(self, wait_flags)\u001b[0m\n\u001b[1;32m   1762\u001b[0m \u001b[38;5;250m\u001b[39m\u001b[38;5;124;03m\"\"\"All callers to this function MUST hold self._waitpid_lock.\"\"\"\u001b[39;00m\n\u001b[1;32m   1763\u001b[0m \u001b[38;5;28;01mtry\u001b[39;00m:\n\u001b[0;32m-> 1764\u001b[0m     (pid, sts) \u001b[38;5;241m=\u001b[39m \u001b[43mos\u001b[49m\u001b[38;5;241;43m.\u001b[39;49m\u001b[43mwaitpid\u001b[49m\u001b[43m(\u001b[49m\u001b[38;5;28;43mself\u001b[39;49m\u001b[38;5;241;43m.\u001b[39;49m\u001b[43mpid\u001b[49m\u001b[43m,\u001b[49m\u001b[43m \u001b[49m\u001b[43mwait_flags\u001b[49m\u001b[43m)\u001b[49m\n\u001b[1;32m   1765\u001b[0m \u001b[38;5;28;01mexcept\u001b[39;00m \u001b[38;5;167;01mChildProcessError\u001b[39;00m:\n\u001b[1;32m   1766\u001b[0m     \u001b[38;5;66;03m# This happens if SIGCLD is set to be ignored or waiting\u001b[39;00m\n\u001b[1;32m   1767\u001b[0m     \u001b[38;5;66;03m# for child processes has otherwise been disabled for our\u001b[39;00m\n\u001b[1;32m   1768\u001b[0m     \u001b[38;5;66;03m# process.  This child is dead, we can't get the status.\u001b[39;00m\n\u001b[1;32m   1769\u001b[0m     pid \u001b[38;5;241m=\u001b[39m \u001b[38;5;28mself\u001b[39m\u001b[38;5;241m.\u001b[39mpid\n",
      "\u001b[0;31mKeyboardInterrupt\u001b[0m: "
     ]
    }
   ],
   "source": [
    "# Render using VMD and (custom) render scripts\n",
    "containers.render(prefix=base_name + '_')\n",
    "containers.load_renders(prefix=base_name + '_')"
   ]
  },
  {
   "cell_type": "code",
   "execution_count": null,
   "id": "60b51676-9800-44cd-94a6-f27b80a50916",
   "metadata": {},
   "outputs": [],
   "source": [
    "# Plot using the VMD imagaes\n",
    "containers.plot(name=base_name + '_renders.html')\n",
    "# Open in a new tab, for the images in the graph are not shown in jupyter notebook\n",
    "webbrowser.open_new_tab(base_name + '_renders.html')"
   ]
  },
  {
   "cell_type": "markdown",
   "id": "a232baf9-74a6-48cb-937a-7da7ec4af19c",
   "metadata": {},
   "source": [
    "## 2 - Nested Islands\n",
    "A slightly more elaborate containment hierarchy, we still turn off blurring as we have voxel perfect input."
   ]
  },
  {
   "cell_type": "code",
   "execution_count": 8,
   "id": "3d5653d9-b908-4ae2-8e95-f63ff62ea0e5",
   "metadata": {},
   "outputs": [
    {
     "name": "stdout",
     "output_type": "stream",
     "text": [
      "Info) VMD for LINUXAMD64, version 1.9.4a55 (November 26, 2021)\n",
      "Info) http://www.ks.uiuc.edu/Research/vmd/                         \n",
      "Info) Email questions and bug reports to vmd@ks.uiuc.edu           \n",
      "Info) Please include this reference in published work using VMD:   \n",
      "Info)    Humphrey, W., Dalke, A. and Schulten, K., `VMD - Visual   \n",
      "Info)    Molecular Dynamics', J. Molec. Graphics 1996, 14.1, 33-38.\n",
      "Info) -------------------------------------------------------------\n",
      "Info) Multithreading available, 16 CPUs.\n",
      "Info)   CPU features: SSE2 SSE4.1 AVX AVX2 FMA F16 HT \n",
      "Info) Free system memory: 26GB (85%)\n",
      "\u001b[K\r"
     ]
    },
    {
     "name": "stderr",
     "output_type": "stream",
     "text": [
      "/home/bart/.virtualenvs/containment/lib/python3.8/site-packages/MDAnalysis/coordinates/GRO.py:421: UserWarning: Supplied AtomGroup was missing the following attributes: resnames, resids. These will be written with default values. Alternatively these can be supplied as keyword arguments.\n",
      "  warnings.warn(\n"
     ]
    },
    {
     "name": "stdout",
     "output_type": "stream",
     "text": [
      "Info) Creating CUDA device pool and initializing hardware...\n",
      "Info) Detected 1 available CUDA accelerator::\n",
      "Info) [0] Quadro T2000 with Max-Q Design 16 SM_7.5 1.4 GHz, 3.8GB RAM SP32 KT AE3 ZC\n",
      "Info) OpenGL renderer: Mesa Intel(R) UHD Graphics (CML GT2)\n",
      "Info)   Features: STENCIL MSAA(4) MDE CVA MTX NPOT PP PS GLSL(OVFS) \n",
      "Info)   Full GLSL rendering mode is available.\n",
      "Info)   Textures: 2-D (16384x16384), 3-D (512x512x512), Multitexture (8)\n",
      "OpenGLDisplayDevice) Creating OptiX RTRT context...\n",
      "OpenGLDisplayDevice) OptiX RTRT context created.\n",
      "Info) Internal command editing disabled, external rlwrap in use.\n",
      "Info) Detected 1 available TachyonL/OptiX ray tracing accelerator\n",
      "Info)   Compiling  OptiX shaders on 1 target GPU...\n",
      "Info) File loading in progress, please wait.\n",
      "Info) Using plugin gro for structure file nested_islands_3D.gro\n",
      "Info) Using plugin gro for coordinates from file nested_islands_3D.gro\n",
      "Info) Determining bond structure from distance search ...\n",
      "Info) Finished with coordinate file nested_islands_3D.gro.\n",
      "Info) Analyzing structure ...\n",
      "Info)    Atoms: 1000\n",
      "Info)    Bonds: 0\n",
      "Info)    Angles: 0  Dihedrals: 0  Impropers: 0  Cross-terms: 0\n",
      "Info)    Bondtypes: 0  Angletypes: 0  Dihedraltypes: 0  Impropertypes: 0\n",
      "Info)    Residues: 1000\n",
      "Info)    Waters: 0\n",
      "Info)    Segments: 1\n",
      "Info)    Fragments: 1000   Protein: 0   Nucleic: 0\n",
      "\u001b[K\n",
      " USAGE\n",
      "-------\n",
      "\n",
      "These few lines are given by the \"cg_bonds_usage\" command.\n",
      "\n",
      "Draw bonds for specific molecules.\n",
      "   cg_bonds [OPTIONS]\n",
      "\n",
      "If you ask to this script to draw Martini/elastic network from a .tpr file, it will use the \"gmx\" executable compiled with gromacs. By default, it looks for it in the \"/usr/bin\" directory; you can specify another path pointing to the executable (see below). If you ask to read a .top file, it will read the paths to the .itp files from the \"#include\" statements; make sure those paths are valid...\n",
      "\n",
      "Options and default values:\n",
      "   -molid     \"top\"                VMD-defined ID of the molecule to process\n",
      "   -gmx       /usr/bin/gmx         path to the \"gmx\" executable\n",
      "   -tpr       topol.tpr            path to the simulation file (.tpr)\n",
      "   -top       topol.top            path to the system topology files (.top linking to .itp)\n",
      "   -topoltype \"martini\"            type of topology(martini|elastic|elnedyn)\n",
      "   -net       \"martini\"            network to draw (martini|elastic|both)\n",
      "   -bndrcnstr \"both\"               draw bonds AND/OR constraints (bonds|constraints|both)\n",
      "   -cutoff    7.0                  cutoff for bonds/constraints [angstroms]\n",
      "   -color     \"red\"                color (color name or VMD-defined ID) of elastic bonds\n",
      "   -mat       \"Opaque\"             material for elastic bonds\n",
      "   -rad       0.2                  radius of elastic bonds\n",
      "   -res       6                    resolution of elastic bonds\n",
      "\n",
      "In most of the cases, if a \"classical\" cutoff is used for the elastic network (0.9nm), more than 12 elastic \"bonds\" per bead are defined and VMD refuses to draw them. BUT this script replaces bonds by cylinders, and is able to draw the entire elastic network. Note that you will have to modify the default cutoff value to see all the \"bonds\" defined by the elastic network. These drawings are not dynamic, you will need to re-draw the entire network each step of a trajectory.\n",
      "\n",
      "Delete the Martini network:\n",
      "   cg_delete_martini_bonds [OPTION]\n",
      "\n",
      "Delete the elastic network:\n",
      "   cg_delete_elastic_bonds [OPTION]\n",
      "\n",
      "Shortcut (delete everything, including bonds/constraints lists):\n",
      "   cg_delete_all [OPTION]\n",
      "\n",
      "The only option for the previous three commands is the VMD-defined ID of the molecule to process (via -molid, default is \"top\").\n",
      "\n",
      "Someone (...) said the names of the functions were too long; you can find some shortcuts here:\n",
      "   cg_bonds_usage            cg_bus\n",
      "   cg_delete_martini_bonds   cg_dmb\n",
      "   cg_delete_elastic_bonds   cg_deb\n",
      "   cg_delete_all             cg_dab\n",
      "\n",
      " EXAMPLES\n",
      "----------\n",
      "\n",
      "   cg_bonds -tpr mini.tpr\n",
      "   cg_bonds -gmx gmx -tpr mini.tpr\n",
      "   cg_bonds -gmx /usr/local/gromacs-2016.3/bin/gmx -topoltype \"martini\" -top system.top -cutoff 6.2\n",
      "   cg_bonds -topoltype \"elastic\" -res 10 -cutoff 12.0 -mat Transparent -color 12\n",
      "   cg_dmb -molid 1\n",
      "\n",
      "The qwikfold package could not be loaded:\n",
      "\n",
      "{{1 0 0 -70} {0 1 0 -70} {0 0 1 -70} {0 0 0 1}} {{0.117931 -0.992977 0.00815761 0} {0.133787 0.0240307 0.99071 0} {-0.983952 -0.115743 0.135685 0} {0 0 0 1}} {{0.00960001 0 0 0} {0 0.00960001 0 0} {0 0 0.00960001 0} {0 0 0 1}} {{1 0 0 0} {0 1 0 0} {0 0 1 0} {0 0 0 1}}\n",
      "0\n",
      "0\n",
      "vmd > Info) VMD for LINUXAMD64, version 1.9.4a55 (November 26, 2021)\n",
      "Info) Exiting normally.\n",
      "OpenGLDisplayDevice) Destroying OptiX RTRT context...\n",
      "OpenGLDisplayDevice) OptiX RTRT context destroyed.\n",
      "rlwrap: error: read error on master pty: Input/output error\n"
     ]
    },
    {
     "data": {
      "text/plain": [
       "<Universe with 1000 atoms>"
      ]
     },
     "execution_count": 8,
     "metadata": {},
     "output_type": "execute_result"
    }
   ],
   "source": [
    "# Generate the test data\n",
    "base_name = 'nested_islands_3D'\n",
    "make_nested_island_3D(base_name + '.gro')"
   ]
  },
  {
   "cell_type": "code",
   "execution_count": 9,
   "id": "e452167e-7950-40f5-ae2c-0bd2be29793c",
   "metadata": {},
   "outputs": [
    {
     "name": "stderr",
     "output_type": "stream",
     "text": [
      "/home/bart/.virtualenvs/containment/lib/python3.8/site-packages/MDAnalysis/topology/guessers.py:146: UserWarning: Failed to guess the mass for the following atom types: A\n",
      "  warnings.warn(\"Failed to guess the mass for the following atom types: {}\".format(atom_type))\n"
     ]
    }
   ],
   "source": [
    "# Load the GRO\n",
    "u = mda.Universe(base_name + '.gro')\n",
    "selection = u.select_atoms('name is A')"
   ]
  },
  {
   "cell_type": "code",
   "execution_count": 10,
   "id": "2e9e1285-cc51-403b-9c24-c86e10616e20",
   "metadata": {
    "scrolled": true
   },
   "outputs": [
    {
     "name": "stdout",
     "output_type": "stream",
     "text": [
      "Creating voxel masks with a resolution of 1...\n",
      "Blurring voxel masks with 0...\n",
      "Non PBC-labeling...\n",
      "Obtaining bridges...\n",
      "Calculating the ranks...\n",
      "The ranks are {(1,): 0, (2,): 0, (-2,): 0, (-1,): 3}\n",
      "Calculating the pairs...\n",
      "Relabeling taking PBC into account...\n",
      "Creating graphs...\n",
      "Annotating the containment graph...\n",
      "Done!\n"
     ]
    }
   ],
   "source": [
    "# Generate the containment hierarchy\n",
    "containers = mdvc.Containers(selection.atoms, resolution=1, blur_amount=0)"
   ]
  },
  {
   "cell_type": "code",
   "execution_count": 11,
   "id": "90cf0f41-c014-4c08-9384-080604bdecad",
   "metadata": {},
   "outputs": [
    {
     "name": "stderr",
     "output_type": "stream",
     "text": [
      "/home/bart/.virtualenvs/containment/lib/python3.8/site-packages/MDAnalysis/coordinates/PDB.py:1129: UserWarning: Found no information for attr: 'altLocs' Using default value of ' '\n",
      "  warnings.warn(\"Found no information for attr: '{}'\"\n",
      "/home/bart/.virtualenvs/containment/lib/python3.8/site-packages/MDAnalysis/coordinates/PDB.py:1129: UserWarning: Found no information for attr: 'icodes' Using default value of ' '\n",
      "  warnings.warn(\"Found no information for attr: '{}'\"\n",
      "/home/bart/.virtualenvs/containment/lib/python3.8/site-packages/MDAnalysis/coordinates/PDB.py:1129: UserWarning: Found no information for attr: 'chainIDs' Using default value of ''\n",
      "  warnings.warn(\"Found no information for attr: '{}'\"\n",
      "/home/bart/.virtualenvs/containment/lib/python3.8/site-packages/MDAnalysis/coordinates/PDB.py:1129: UserWarning: Found no information for attr: 'occupancies' Using default value of '1.0'\n",
      "  warnings.warn(\"Found no information for attr: '{}'\"\n",
      "/home/bart/.virtualenvs/containment/lib/python3.8/site-packages/MDAnalysis/coordinates/PDB.py:1129: UserWarning: Found no information for attr: 'elements' Using default value of ' '\n",
      "  warnings.warn(\"Found no information for attr: '{}'\"\n",
      "/home/bart/.virtualenvs/containment/lib/python3.8/site-packages/MDAnalysis/coordinates/PDB.py:1129: UserWarning: Found no information for attr: 'record_types' Using default value of 'ATOM'\n",
      "  warnings.warn(\"Found no information for attr: '{}'\"\n",
      "/home/bart/.virtualenvs/containment/lib/python3.8/site-packages/MDAnalysis/coordinates/PDB.py:1129: UserWarning: Found no information for attr: 'formalcharges' Using default value of '0'\n",
      "  warnings.warn(\"Found no information for attr: '{}'\"\n",
      "/home/bart/.virtualenvs/containment/lib/python3.8/site-packages/MDAnalysis/coordinates/PDB.py:1176: UserWarning: Found missing chainIDs. Corresponding atoms will use value of 'X'\n",
      "  warnings.warn(\"Found missing chainIDs.\"\n"
     ]
    }
   ],
   "source": [
    "containers.write_components()"
   ]
  },
  {
   "cell_type": "code",
   "execution_count": null,
   "id": "cb95d881-2222-48f8-a1e2-671e1d6a417e",
   "metadata": {},
   "outputs": [],
   "source": [
    "## Making the writing of the components easier\n",
    "# We create a dictionary with containers as keys and a list of containees as their value.\n",
    "def create_containment_dictionary(containers):\n",
    "    \"\"\"\n",
    "    Returns the containment in a flat dictionary form.\n",
    "\n",
    "    e.g.\n",
    "    -4 : -4, 1, -2\n",
    "    \"\"\"\n",
    "    containment_dictionary = {}\n",
    "    for node in containers.containment_graph.nodes():\n",
    "        containment_dictionary[node] = containers.get_downstream_nodes([node])\n",
    "    return containment_dictionary"
   ]
  },
  {
   "cell_type": "code",
   "execution_count": null,
   "id": "2dc3163b-39c3-4878-8d4e-d6effc4d331f",
   "metadata": {},
   "outputs": [],
   "source": [
    "# We write the dictionary as TCL to a file for VMD to use.\n",
    "def write_tcl_containment(containment_dictionary, fname='containment_selections.vmd'):\n",
    "    \"\"\"\n",
    "    Writes the containment dictionary as VMD selection macros.\n",
    "    \"\"\"\n",
    "    with open(fname, 'w') as f:\n",
    "        for container in containment_dictionary.keys():\n",
    "            containment_string = ''.join([f'\\'{x}\\' ' for x in containment_dictionary[container]])\n",
    "            if container >= 0 :\n",
    "                f.write(f\"atomselect macro cont_p{container} \\\"beta {containment_string}\\\"\\n\")\n",
    "            else:\n",
    "                f.write(f\"atomselect macro cont_n{abs(container)} \\\"beta {containment_string}\\\"\\n\")"
   ]
  },
  {
   "cell_type": "code",
   "execution_count": null,
   "id": "3bcc466b-2d2d-4f58-9628-e4821186d741",
   "metadata": {},
   "outputs": [],
   "source": [
    "def write_tcl_visualization(containment_dictionary, fname='containment_selections.vmd'):\n",
    "    \"\"\"\n",
    "    Writes the QuickSurf transparent selection style.\n",
    "    \"\"\"\n",
    "    with open(fname, 'a') as f:\n",
    "        f.write(f'\\nmol delrep 0 0\\n')\n",
    "        for idx, container in enumerate(containment_dictionary.keys()):\n",
    "            f.write(f'mol addrep 0\\n')\n",
    "            if container >= 0:\n",
    "                f.write(f'mol modselect {idx} 0 cont_p{container}\\n')\n",
    "            else:\n",
    "                f.write(f'mol modselect {idx} 0 cont_n{abs(container)}\\n')\n",
    "            f.write(f'mol modstyle {idx} 0 QuickSurf 2.500000 0.500000 1.000000 1.000000\\n')\n",
    "            f.write(f'mol modmaterial {idx} 0 Transparent\\n')\n",
    "            f.write(f'mol modcolor {idx} 0 ColorID {idx}\\n')"
   ]
  },
  {
   "cell_type": "code",
   "execution_count": null,
   "id": "f835d776-6a0a-469d-9920-235902d3258b",
   "metadata": {},
   "outputs": [],
   "source": [
    "def write_tcl_file(containers, fname='containment_selections.vmd'):\n",
    "    \"\"\"\n",
    "    Writes the containment dictionary as VMD selection macros for the given containers object.\n",
    "\n",
    "    A default visualization style is also included.\n",
    "    \"\"\"\n",
    "    # Bake the containment dictionary\n",
    "    containment_dict = create_containment_dictionary(containers)\n",
    "    # Write the dicitonary to TCL\n",
    "    write_tcl_containment(containment_dict, fname)\n",
    "    # Write the visualization\n",
    "    write_tcl_visualization(containment_dict, fname)"
   ]
  },
  {
   "cell_type": "code",
   "execution_count": null,
   "id": "ca6af12e-af63-47e8-9830-b9ccb5b557fa",
   "metadata": {},
   "outputs": [],
   "source": [
    "# Show the objects\n",
    "containers.get_atomgroup_from_nodes(list(containers.containment_graph.nodes()), b_factor=True, residue=False).write(f'components_{base_name}.pdb')\n",
    "write_tcl_file(containers)\n",
    "visualize_3D(f'components_{base_name}.pdb', command_string='-e render_components.vmd -e containment_selections.vmd')"
   ]
  },
  {
   "cell_type": "code",
   "execution_count": null,
   "id": "dce04103-cc92-4c37-aac0-d12b9de3db7e",
   "metadata": {},
   "outputs": [],
   "source": [
    "# Plot the containment hierarchy as nodes (size is occupancy)\n",
    "containers.plot(name= base_name + '.html')"
   ]
  },
  {
   "cell_type": "code",
   "execution_count": null,
   "id": "7f6aa550-fdf0-4776-8ecc-bdae6d885bf2",
   "metadata": {},
   "outputs": [],
   "source": [
    "# Render using VMD\n",
    "containers.render(prefix=base_name + '_')\n",
    "containers.load_renders(prefix=base_name + '_')"
   ]
  },
  {
   "cell_type": "code",
   "execution_count": null,
   "id": "2ff558d4-6110-410b-b13d-3c6c5f90058e",
   "metadata": {},
   "outputs": [],
   "source": [
    "# Plot using the VMD imagaes\n",
    "containers.plot(name= base_name + '_renders.html')\n",
    "# Open in a new tab, for the images in the graph are not shown in jupyter notebook\n",
    "webbrowser.open_new_tab(base_name + '_renders.html')"
   ]
  },
  {
   "cell_type": "markdown",
   "id": "8254f403-5509-4753-abe3-e1ef126f67f7",
   "metadata": {},
   "source": [
    "## 3 - Translation Invariance (up to voxel resolution)"
   ]
  },
  {
   "cell_type": "code",
   "execution_count": null,
   "id": "1e01635a-7175-4945-b73a-3f8ad5a9c4fb",
   "metadata": {},
   "outputs": [],
   "source": [
    "# Generate the test data\n",
    "base_name = 'nested_island_2D_rolled'\n",
    "make_nested_island_2D(base_name + '.gro', roll=5)"
   ]
  },
  {
   "cell_type": "code",
   "execution_count": null,
   "id": "bd960596-3344-4141-a226-a1fdfd810a5c",
   "metadata": {},
   "outputs": [],
   "source": [
    "# Load the GRO\n",
    "u = mda.Universe(base_name + '.gro')\n",
    "selection = u.select_atoms('name is A')"
   ]
  },
  {
   "cell_type": "code",
   "execution_count": null,
   "id": "7c6f8bdf-a2eb-462b-b241-58560cce9430",
   "metadata": {},
   "outputs": [],
   "source": [
    "# Generate the containment hierarchy\n",
    "containers = mdvc.Containers(selection.atoms, resolution=1, blur_amount=0)"
   ]
  },
  {
   "cell_type": "code",
   "execution_count": null,
   "id": "78190761-183d-4244-8384-3208778d1036",
   "metadata": {},
   "outputs": [],
   "source": [
    "# Show the objects\n",
    "plt.imshow(containers.data['relabeled_combined_label_array'])"
   ]
  },
  {
   "cell_type": "code",
   "execution_count": null,
   "id": "d7dff4f6-615b-44f7-ac62-23232c043819",
   "metadata": {},
   "outputs": [],
   "source": [
    "# Plot the containment hierarchy as nodes (size is occupancy)\n",
    "containers.plot(name= base_name + '.html')"
   ]
  },
  {
   "cell_type": "code",
   "execution_count": null,
   "id": "3667f013-8976-4c83-be7f-f74977e7d061",
   "metadata": {},
   "outputs": [],
   "source": [
    "# Render using VMD\n",
    "containers.render(prefix=base_name + '_')\n",
    "containers.load_renders(prefix=base_name + '_')"
   ]
  },
  {
   "cell_type": "code",
   "execution_count": null,
   "id": "ecf30720-b8a9-4566-ae7a-90df73ef722c",
   "metadata": {},
   "outputs": [],
   "source": [
    "# Plot using the VMD imagaes\n",
    "containers.plot(name= base_name + '_renders.html')\n",
    "# Open in a new tab, for the images in the graph are not shown in jupyter notebook\n",
    "webbrowser.open_new_tab(base_name + '_renders.html')"
   ]
  },
  {
   "cell_type": "markdown",
   "id": "99079fc2-f7e5-40e2-bf78-09004fd38dcf",
   "metadata": {},
   "source": [
    "## 4 - Multiple outsides\n",
    "In periodic systems it is possible to have multiple outer outsides."
   ]
  },
  {
   "cell_type": "code",
   "execution_count": null,
   "id": "52438db2-6c74-4884-96f8-07cb61bb487b",
   "metadata": {},
   "outputs": [],
   "source": [
    "# Generate the test data\n",
    "base_name = 'ribbon_2D'\n",
    "make_ribbon_2D(base_name + '.gro', roll=2)"
   ]
  },
  {
   "cell_type": "code",
   "execution_count": null,
   "id": "479557ad-8057-4cc1-826d-ba996c099147",
   "metadata": {},
   "outputs": [],
   "source": [
    "# Load the GRO\n",
    "u = mda.Universe(base_name + '.gro')\n",
    "selection = u.select_atoms('name is A')"
   ]
  },
  {
   "cell_type": "code",
   "execution_count": null,
   "id": "6914242e-af8f-4d33-9371-20cb4054f19c",
   "metadata": {},
   "outputs": [],
   "source": [
    "# Generate the containment hierarchy\n",
    "containers = mdvc.Containers(selection.atoms, resolution=1, blur_amount=0)"
   ]
  },
  {
   "cell_type": "code",
   "execution_count": null,
   "id": "6298f0d9-fea6-4f13-89cf-130d1ba1cbf7",
   "metadata": {},
   "outputs": [],
   "source": [
    "# Show the components\n",
    "plt.imshow(containers.data['relabeled_combined_label_array'])"
   ]
  },
  {
   "cell_type": "code",
   "execution_count": null,
   "id": "293640c6-96ae-450a-ad8e-70739b88aaa2",
   "metadata": {},
   "outputs": [],
   "source": [
    "# Plot the containment hierarchy as nodes (size is occupancy)\n",
    "containers.plot(name= base_name + '.html')"
   ]
  },
  {
   "cell_type": "code",
   "execution_count": null,
   "id": "4f6d2556-5753-4b56-81af-d328e843a63f",
   "metadata": {
    "scrolled": true
   },
   "outputs": [],
   "source": [
    "# Render using VMD\n",
    "containers.render(prefix=base_name + '_')\n",
    "containers.load_renders(prefix=base_name + '_')"
   ]
  },
  {
   "cell_type": "code",
   "execution_count": null,
   "id": "e61b01bd-3cf7-4979-b6e6-6d642a748510",
   "metadata": {},
   "outputs": [],
   "source": [
    "# Plot using the VMD imagaes\n",
    "containers.plot(name= base_name + '_renders.html')\n",
    "# Open in a new tab, for the images in the graph are not shown in jupyter notebook\n",
    "webbrowser.open_new_tab(base_name + '_renders.html')"
   ]
  },
  {
   "cell_type": "markdown",
   "id": "6ae7790b-33ff-4881-b238-9cc83a2c7aa7",
   "metadata": {},
   "source": [
    "## 5 - Closing (small) holes\n",
    "We can use boolean closure (dilation followed by erosion). The blur amount indicates how many steps of dilation are performed, followed by an equal amount of erosions. This means that with a blur of '1' we need to have 3 empty voxels between segments for flanking segments to be resolved as separated entities. However, the upside is that we can use this as a cheap method to circumvent small holes (of size 1 2)."
   ]
  },
  {
   "cell_type": "code",
   "execution_count": null,
   "id": "ab70d628-f7d2-4d16-a0af-0d8bf25f9090",
   "metadata": {},
   "outputs": [],
   "source": [
    "# Generate the test data\n",
    "base_name = 'nested_island_2D_closed'\n",
    "make_nested_island_2D_imperfect(base_name + '.gro', roll=0)"
   ]
  },
  {
   "cell_type": "code",
   "execution_count": null,
   "id": "1a98ba72-8a93-4c26-99dc-0de72ec06629",
   "metadata": {},
   "outputs": [],
   "source": [
    "# Load the GRO\n",
    "u = mda.Universe(base_name + '.gro')\n",
    "selection = u.select_atoms('name is A')"
   ]
  },
  {
   "cell_type": "code",
   "execution_count": null,
   "id": "2b406fb9-8618-4ce9-9327-6b294af16438",
   "metadata": {},
   "outputs": [],
   "source": [
    "# Generate the containment hierarchy\n",
    "containers = mdvc.Containers(selection.atoms, resolution=1, blur_amount=1)"
   ]
  },
  {
   "cell_type": "code",
   "execution_count": null,
   "id": "92cbe3fc-8d72-4738-9d5d-872578cb7052",
   "metadata": {},
   "outputs": [],
   "source": [
    "# Show the objects\n",
    "plt.imshow(containers.data['relabeled_combined_label_array'])"
   ]
  },
  {
   "cell_type": "code",
   "execution_count": null,
   "id": "c423cca3-a0db-4be1-8d45-c85f16dc9fca",
   "metadata": {},
   "outputs": [],
   "source": [
    "# Plot the containment hierarchy as nodes (size is occupancy)\n",
    "containers.plot(name= base_name + '.html')"
   ]
  },
  {
   "cell_type": "code",
   "execution_count": null,
   "id": "d46a9c79-ade5-457d-bf35-f4839c9d2624",
   "metadata": {
    "scrolled": true
   },
   "outputs": [],
   "source": [
    "# Render using VMD\n",
    "containers.render(prefix=base_name + '_')\n",
    "containers.load_renders(prefix=base_name + '_')"
   ]
  },
  {
   "cell_type": "code",
   "execution_count": null,
   "id": "99c5e3c0-c19f-45b2-9b31-529f999e1b05",
   "metadata": {},
   "outputs": [],
   "source": [
    "# Plot using the VMD imagaes\n",
    "containers.plot(name= base_name + '_renders.html')\n",
    "# Open in a new tab, for the images in the graph are not shown in jupyter notebook\n",
    "webbrowser.open_new_tab(base_name + '_renders.html')"
   ]
  },
  {
   "cell_type": "markdown",
   "id": "b9073f58-d258-47d5-9c8e-4f4f79c438ac",
   "metadata": {},
   "source": [
    "## 6 - Diagonal Neighbours are Included\n",
    "Since all voxels sharing a vertex are included as neighbours, we should consider some edge cases, where the definition of continuity is a bit vague. However, this is not a voxel artifact per se, as the same can occur for a radius search. By using a blur, thin diagonal bleeding is not resolved! Using a dilation could resolve the issue, but decreases the accuracy (not supported by default)."
   ]
  },
  {
   "cell_type": "code",
   "execution_count": null,
   "id": "751f5479-c483-4975-a3a8-e4ad77673a71",
   "metadata": {},
   "outputs": [],
   "source": [
    "# Generate the test data\n",
    "base_name = 'diag_neighbor_2D'\n",
    "make_diag_neighbors_2D(base_name + '.gro', roll=0)"
   ]
  },
  {
   "cell_type": "code",
   "execution_count": null,
   "id": "59880298-99eb-4ea3-b3b1-243a6d17a88f",
   "metadata": {},
   "outputs": [],
   "source": [
    "# Load the GRO\n",
    "u = mda.Universe(base_name + '.gro')\n",
    "selection = u.select_atoms('name is A')"
   ]
  },
  {
   "cell_type": "code",
   "execution_count": null,
   "id": "045c1775-bd2f-4c11-a515-7efea11783c1",
   "metadata": {},
   "outputs": [],
   "source": [
    "# Generate the containment hierarchy (change the blur to 0/1 to see the effect!)\n",
    "containers = mdvc.Containers(selection.atoms, resolution=1, blur_amount=0)"
   ]
  },
  {
   "cell_type": "code",
   "execution_count": null,
   "id": "174d454a-c2e2-45b5-b555-e2507a08a556",
   "metadata": {},
   "outputs": [],
   "source": [
    "# Show the objects\n",
    "plt.imshow(containers.data['relabeled_combined_label_array'])"
   ]
  },
  {
   "cell_type": "code",
   "execution_count": null,
   "id": "f58ea1a5-6b06-4672-8b07-7ba7733c6739",
   "metadata": {},
   "outputs": [],
   "source": [
    "# Plot the containment hierarchy as nodes (size is occupancy)\n",
    "containers.plot(name= base_name + '.html')"
   ]
  },
  {
   "cell_type": "code",
   "execution_count": null,
   "id": "da6658c5-b4f6-4e13-835e-280e66e9ac15",
   "metadata": {},
   "outputs": [],
   "source": [
    "# Render using VMD\n",
    "containers.render(prefix=base_name + '_')\n",
    "containers.load_renders(prefix=base_name + '_')"
   ]
  },
  {
   "cell_type": "code",
   "execution_count": null,
   "id": "86b05fa6-c44f-43b8-9903-b7699aee492a",
   "metadata": {},
   "outputs": [],
   "source": [
    "# Plot using the VMD imagaes\n",
    "containers.plot(name= base_name + '_renders.html')\n",
    "# Open in a new tab, for the images in the graph are not shown in jupyter notebook\n",
    "webbrowser.open_new_tab(base_name + '_renders.html')"
   ]
  },
  {
   "cell_type": "code",
   "execution_count": null,
   "id": "113da900-46dc-4dc6-8ae1-876ef9f8c1f2",
   "metadata": {},
   "outputs": [],
   "source": [
    "abs(-1)"
   ]
  },
  {
   "cell_type": "code",
   "execution_count": null,
   "id": "3dbd0bfa-636b-47fe-9c3d-4747d59ed539",
   "metadata": {},
   "outputs": [],
   "source": []
  }
 ],
 "metadata": {
  "kernelspec": {
   "display_name": "Python 3 (ipykernel)",
   "language": "python",
   "name": "python3"
  },
  "language_info": {
   "codemirror_mode": {
    "name": "ipython",
    "version": 3
   },
   "file_extension": ".py",
   "mimetype": "text/x-python",
   "name": "python",
   "nbconvert_exporter": "python",
   "pygments_lexer": "ipython3",
   "version": "3.8.10"
  }
 },
 "nbformat": 4,
 "nbformat_minor": 5
}
