{
 "cells": [
  {
   "cell_type": "code",
   "execution_count": null,
   "id": "1c85fc13-b2ac-44b1-98c5-1cd528e9d351",
   "metadata": {},
   "outputs": [],
   "source": [
    "import mdvcontainment as mdvc\n",
    "import MDAnalysis as mda\n",
    "import numpy as np\n",
    "import matplotlib.pyplot as plt\n",
    "import webbrowser"
   ]
  },
  {
   "cell_type": "markdown",
   "id": "ffcc02be-d5a5-4481-a055-8b0c7dbcd68c",
   "metadata": {},
   "source": [
    "## Data generation funtions\n",
    "Using your own data is perfectly fine, however, for now we would like to use some 2D data so the visualization leaves no room for erronious interpretation."
   ]
  },
  {
   "cell_type": "code",
   "execution_count": null,
   "id": "608b2a4d-3469-45fa-94fe-9341e2495f01",
   "metadata": {},
   "outputs": [],
   "source": [
    "def make_test_universe(array_fill, array_empty, dim, angles=(90,90,90)):\n",
    "    \"\"\"\n",
    "    Returns a universe filled with the specified points.\n",
    "    \"\"\"\n",
    "    \n",
    "    # Creating the empty univerese\n",
    "    universe = mda.Universe.empty(\n",
    "        n_atoms = array_fill.shape[0] + array_empty.shape[0],\n",
    "        trajectory = True,\n",
    "    )\n",
    "    \n",
    "    # Fill the universe with the positions\n",
    "    universe.atoms.positions = np.vstack([array_fill, array_empty])\n",
    "    \n",
    "    # Creating the atom names\n",
    "    names = ['A']*array_fill.shape[0] + ['B']*array_empty.shape[0]\n",
    "    universe.add_TopologyAttr('name', names)\n",
    "    \n",
    "    # Add the PBC conditions\n",
    "    universe.dimensions = [*dim, *angles]\n",
    "    return universe"
   ]
  },
  {
   "cell_type": "code",
   "execution_count": null,
   "id": "f5bed26f-4bc3-48f8-a1a9-0282363e805b",
   "metadata": {},
   "outputs": [],
   "source": [
    "# Creating a 2D island scenario\n",
    "def make_island_2D(name='island_2D.gro', roll=0):\n",
    "    \"\"\"\n",
    "    Returns and writes the atomgroup for a simple island in the ocean (2D).\n",
    "    \"\"\"\n",
    "\n",
    "    # Creating the boolean mask.\n",
    "    shape = np.array((10, 10, 1))\n",
    "    voxels = np.zeros(shape)\n",
    "    voxels[3:7, 3:7, 0] = 1\n",
    "    # Translate periodically \n",
    "    voxels = np.roll(voxels, roll, 0)\n",
    "    voxels = np.roll(voxels, roll, 1)\n",
    "    plt.imshow(voxels)\n",
    "    \n",
    "    # Converting coordinates from anghstrom to nm \n",
    "    #  and adding a 0.5 nm offset. \n",
    "    coordinates_fill = (np.vstack(np.where(voxels != 0)).T)*10 + 5\n",
    "    coordinates_empty = (np.vstack(np.where(voxels == 0)).T)*10 + 5\n",
    "\n",
    "    # Creating the universe\n",
    "    test_universe = make_test_universe(coordinates_fill, coordinates_empty, shape*10)\n",
    "    test_universe.atoms.write(name)\n",
    "    return test_universe"
   ]
  },
  {
   "cell_type": "code",
   "execution_count": null,
   "id": "da2f6b6b-10f2-4842-b5d2-fea644306086",
   "metadata": {},
   "outputs": [],
   "source": [
    "def make_nested_island_2D(name='nested_island_2D.gro', roll=0):\n",
    "    \"\"\"\n",
    "    Returns and writes the atomgroup for a nesyed island in the ocean (2D).\n",
    "    \"\"\"\n",
    "\n",
    "    # Creating the boolean mask\n",
    "    shape = np.array((10, 10, 1))\n",
    "    voxels = np.zeros(shape)\n",
    "    voxels[2:8, 2:8, 0] = 1\n",
    "    voxels[3:7, 3:7, 0] = 0\n",
    "    voxels[4:6, 4:6, 0] = 1\n",
    "    # Translate periodically \n",
    "    voxels = np.roll(voxels, roll, 0)\n",
    "    voxels = np.roll(voxels, roll, 1)\n",
    "    plt.imshow(voxels)\n",
    "    \n",
    "    # Converting coordinates from anghstrom to nm \n",
    "    #  and adding a 0.5 nm offset. \n",
    "    coordinates_fill = (np.vstack(np.where(voxels != 0)).T)*10 + 5\n",
    "    coordinates_empty = (np.vstack(np.where(voxels == 0)).T)*10 + 5\n",
    "\n",
    "    # Creating the universe\n",
    "    test_universe = make_test_universe(coordinates_fill, coordinates_empty, shape*10)\n",
    "    test_universe.atoms.write(name)\n",
    "    return test_universe"
   ]
  },
  {
   "cell_type": "code",
   "execution_count": null,
   "id": "c2ec18b5-ca5a-45de-87ea-c2b9c83e1fec",
   "metadata": {},
   "outputs": [],
   "source": [
    "def make_nested_island_2D_imperfect(name='nested_island_2D.gro', roll=0):\n",
    "    \"\"\"\n",
    "    Returns and writes the atomgroup for a nesyed island in the ocean (2D).\n",
    "    \"\"\"\n",
    "\n",
    "    # Creating the boolean mask\n",
    "    shape = np.array((14, 14, 1))\n",
    "    voxels = np.zeros(shape)\n",
    "    voxels[2:12, 2:12, 0] = 1\n",
    "    voxels[2, 4, 0] = 0\n",
    "    voxels[3:11, 3:11, 0] = 0\n",
    "    voxels[6:8, 6:8, 0] = 1\n",
    "    # Translate periodically \n",
    "    voxels = np.roll(voxels, roll, 0)\n",
    "    voxels = np.roll(voxels, roll, 1)\n",
    "    plt.imshow(voxels)\n",
    "    \n",
    "    # Converting coordinates from anghstrom to nm \n",
    "    #  and adding a 0.5 nm offset. \n",
    "    coordinates_fill = (np.vstack(np.where(voxels != 0)).T)*10 + 5\n",
    "    coordinates_empty = (np.vstack(np.where(voxels == 0)).T)*10 + 5\n",
    "\n",
    "    # Creating the universe\n",
    "    test_universe = make_test_universe(coordinates_fill, coordinates_empty, shape*10)\n",
    "    test_universe.atoms.write(name)\n",
    "    return test_universe"
   ]
  },
  {
   "cell_type": "markdown",
   "id": "fc009c5c-2e54-46de-b689-b64b7012da90",
   "metadata": {},
   "source": [
    "## Island (2D)\n",
    "This is the most basic of containment hierarchies. We do not use blurring, as we have voxel perfect input."
   ]
  },
  {
   "cell_type": "code",
   "execution_count": null,
   "id": "67c8eb6a-01f8-4a5a-aa39-e36bb48c50ef",
   "metadata": {},
   "outputs": [],
   "source": [
    "# Generate the test data\n",
    "base_name = 'island_2D'\n",
    "make_island_2D(base_name + '.gro')"
   ]
  },
  {
   "cell_type": "code",
   "execution_count": null,
   "id": "643b02b6-8646-4cf9-ab1b-6ad4e4d58e67",
   "metadata": {},
   "outputs": [],
   "source": [
    "# Load the GRO\n",
    "u = mda.Universe(base_name + '.gro')\n",
    "# Make the required selection\n",
    "selection = u.select_atoms('name is A')"
   ]
  },
  {
   "cell_type": "code",
   "execution_count": null,
   "id": "7e6bca45-3577-4277-890f-ebc03b165a01",
   "metadata": {},
   "outputs": [],
   "source": [
    "# Generate the containment hierarchy\n",
    "containers = mdvc.Containers(selection.atoms, resolution=1, blur_amount=0)"
   ]
  },
  {
   "cell_type": "code",
   "execution_count": null,
   "id": "21bfecd7-a51a-4094-b75b-32da28cba870",
   "metadata": {},
   "outputs": [],
   "source": [
    "# Plot the containment hierarchy as nodes (size is occupancy)\n",
    "containers.plot(name=base_name + '.html')"
   ]
  },
  {
   "cell_type": "code",
   "execution_count": null,
   "id": "2043e281-1867-495d-b711-ce372f5330b0",
   "metadata": {},
   "outputs": [],
   "source": [
    "# Render using VMD and (custom) render scripts\n",
    "containers.render(prefix=base_name + '_')\n",
    "containers.load_renders(prefix=base_name + '_')"
   ]
  },
  {
   "cell_type": "code",
   "execution_count": null,
   "id": "60b51676-9800-44cd-94a6-f27b80a50916",
   "metadata": {},
   "outputs": [],
   "source": [
    "# Plot using the VMD imagaes\n",
    "containers.plot(name=base_name + '_renders.html')\n",
    "# Open in a new tab, for the images in the graph are not shown in jupyter notebook\n",
    "webbrowser.open_new_tab(base_name + '_renders.html')"
   ]
  },
  {
   "cell_type": "markdown",
   "id": "a232baf9-74a6-48cb-937a-7da7ec4af19c",
   "metadata": {},
   "source": [
    "### Nested islands (2D)\n",
    "A slightly more elaborate containment hierarchy, we still turn off blurring as we have voxel perfect input."
   ]
  },
  {
   "cell_type": "code",
   "execution_count": null,
   "id": "3d5653d9-b908-4ae2-8e95-f63ff62ea0e5",
   "metadata": {},
   "outputs": [],
   "source": [
    "# Generate the test data\n",
    "base_name = 'nested_island_2D'\n",
    "make_nested_island_2D(base_name + '.gro')"
   ]
  },
  {
   "cell_type": "code",
   "execution_count": null,
   "id": "e452167e-7950-40f5-ae2c-0bd2be29793c",
   "metadata": {},
   "outputs": [],
   "source": [
    "# Load the GRO\n",
    "u = mda.Universe(base_name + '.gro')\n",
    "selection = u.select_atoms('name is A')"
   ]
  },
  {
   "cell_type": "code",
   "execution_count": null,
   "id": "2e9e1285-cc51-403b-9c24-c86e10616e20",
   "metadata": {},
   "outputs": [],
   "source": [
    "# Generate the containment hierarchy\n",
    "containers = mdvc.Containers(selection.atoms, resolution=1, blur_amount=0)"
   ]
  },
  {
   "cell_type": "code",
   "execution_count": null,
   "id": "dce04103-cc92-4c37-aac0-d12b9de3db7e",
   "metadata": {},
   "outputs": [],
   "source": [
    "# Plot the containment hierarchy as nodes (size is occupancy)\n",
    "containers.plot(name= base_name + '.html')"
   ]
  },
  {
   "cell_type": "code",
   "execution_count": null,
   "id": "7f6aa550-fdf0-4776-8ecc-bdae6d885bf2",
   "metadata": {},
   "outputs": [],
   "source": [
    "# Render using VMD\n",
    "containers.render(prefix=base_name + '_')\n",
    "containers.load_renders(prefix=base_name + '_')"
   ]
  },
  {
   "cell_type": "code",
   "execution_count": null,
   "id": "2ff558d4-6110-410b-b13d-3c6c5f90058e",
   "metadata": {},
   "outputs": [],
   "source": [
    "# Plot using the VMD imagaes\n",
    "containers.plot(name= base_name + '_renders.html')\n",
    "# Open in a new tab, for the images in the graph are not shown in jupyter notebook\n",
    "webbrowser.open_new_tab(base_name + '_renders.html')"
   ]
  },
  {
   "cell_type": "markdown",
   "id": "8254f403-5509-4753-abe3-e1ef126f67f7",
   "metadata": {},
   "source": [
    "### Nested islands shifted (2D)"
   ]
  },
  {
   "cell_type": "code",
   "execution_count": null,
   "id": "1e01635a-7175-4945-b73a-3f8ad5a9c4fb",
   "metadata": {},
   "outputs": [],
   "source": [
    "# Generate the test data\n",
    "base_name = 'nested_island_2D_rolled'\n",
    "make_nested_island_2D(base_name + '.gro', roll=5)"
   ]
  },
  {
   "cell_type": "code",
   "execution_count": null,
   "id": "bd960596-3344-4141-a226-a1fdfd810a5c",
   "metadata": {},
   "outputs": [],
   "source": [
    "# Load the GRO\n",
    "u = mda.Universe(base_name + '.gro')\n",
    "selection = u.select_atoms('name is A')"
   ]
  },
  {
   "cell_type": "code",
   "execution_count": null,
   "id": "7c6f8bdf-a2eb-462b-b241-58560cce9430",
   "metadata": {},
   "outputs": [],
   "source": [
    "# Generate the containment hierarchy\n",
    "containers = mdvc.Containers(selection.atoms, resolution=1, blur_amount=0)"
   ]
  },
  {
   "cell_type": "code",
   "execution_count": null,
   "id": "d7dff4f6-615b-44f7-ac62-23232c043819",
   "metadata": {},
   "outputs": [],
   "source": [
    "# Plot the containment hierarchy as nodes (size is occupancy)\n",
    "containers.plot(name= base_name + '.html')"
   ]
  },
  {
   "cell_type": "code",
   "execution_count": null,
   "id": "3667f013-8976-4c83-be7f-f74977e7d061",
   "metadata": {},
   "outputs": [],
   "source": [
    "# Render using VMD\n",
    "containers.render(prefix=base_name + '_')\n",
    "containers.load_renders(prefix=base_name + '_')"
   ]
  },
  {
   "cell_type": "code",
   "execution_count": null,
   "id": "ecf30720-b8a9-4566-ae7a-90df73ef722c",
   "metadata": {},
   "outputs": [],
   "source": [
    "# Plot using the VMD imagaes\n",
    "containers.plot(name= base_name + '_renders.html')\n",
    "# Open in a new tab, for the images in the graph are not shown in jupyter notebook\n",
    "webbrowser.open_new_tab(base_name + '_renders.html')"
   ]
  },
  {
   "cell_type": "markdown",
   "id": "6ae7790b-33ff-4881-b238-9cc83a2c7aa7",
   "metadata": {},
   "source": [
    "### Removing small holes using boolean closure\n",
    "We can use boolean closure (dilation followed by erosion). The blur amount indicates how many steps of dilation are performed, followed by an equal amount of erosions. This means that with a blur of '1' we need to have 3 empty voxels between segments for flanking segments to be resolved as separated entities. However, the upside is that we can use this as a cheap method to circumvent small holes (of size 1 2)."
   ]
  },
  {
   "cell_type": "code",
   "execution_count": null,
   "id": "ab70d628-f7d2-4d16-a0af-0d8bf25f9090",
   "metadata": {},
   "outputs": [],
   "source": [
    "# Generate the test data\n",
    "base_name = 'nested_island_2D_rolled_closed'\n",
    "make_nested_island_2D_imperfect(base_name + '.gro', roll=0)"
   ]
  },
  {
   "cell_type": "code",
   "execution_count": null,
   "id": "1a98ba72-8a93-4c26-99dc-0de72ec06629",
   "metadata": {},
   "outputs": [],
   "source": [
    "# Load the GRO\n",
    "u = mda.Universe(base_name + '.gro')\n",
    "selection = u.select_atoms('name is A')"
   ]
  },
  {
   "cell_type": "code",
   "execution_count": null,
   "id": "2b406fb9-8618-4ce9-9327-6b294af16438",
   "metadata": {},
   "outputs": [],
   "source": [
    "# Generate the containment hierarchy\n",
    "containers = mdvc.Containers(selection.atoms, resolution=1, blur_amount=1)"
   ]
  },
  {
   "cell_type": "code",
   "execution_count": null,
   "id": "70905f03-b4dd-4c1b-a20b-3ba7e706afe4",
   "metadata": {},
   "outputs": [],
   "source": [
    "plt.imshow(containers.data['voxels'].grid)"
   ]
  },
  {
   "cell_type": "code",
   "execution_count": null,
   "id": "c423cca3-a0db-4be1-8d45-c85f16dc9fca",
   "metadata": {},
   "outputs": [],
   "source": [
    "# Plot the containment hierarchy as nodes (size is occupancy)\n",
    "containers.plot(name= base_name + '.html')"
   ]
  },
  {
   "cell_type": "code",
   "execution_count": null,
   "id": "d46a9c79-ade5-457d-bf35-f4839c9d2624",
   "metadata": {},
   "outputs": [],
   "source": [
    "# Render using VMD\n",
    "containers.render(prefix=base_name + '_')\n",
    "containers.load_renders(prefix=base_name + '_')"
   ]
  },
  {
   "cell_type": "code",
   "execution_count": null,
   "id": "99c5e3c0-c19f-45b2-9b31-529f999e1b05",
   "metadata": {},
   "outputs": [],
   "source": [
    "# Plot using the VMD imagaes\n",
    "containers.plot(name= base_name + '_renders.html')\n",
    "# Open in a new tab, for the images in the graph are not shown in jupyter notebook\n",
    "webbrowser.open_new_tab(base_name + '_renders.html')"
   ]
  }
 ],
 "metadata": {
  "kernelspec": {
   "display_name": "Python 3 (ipykernel)",
   "language": "python",
   "name": "python3"
  },
  "language_info": {
   "codemirror_mode": {
    "name": "ipython",
    "version": 3
   },
   "file_extension": ".py",
   "mimetype": "text/x-python",
   "name": "python",
   "nbconvert_exporter": "python",
   "pygments_lexer": "ipython3",
   "version": "3.8.10"
  }
 },
 "nbformat": 4,
 "nbformat_minor": 5
}
